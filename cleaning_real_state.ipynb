{
 "cells": [
  {
   "cell_type": "code",
   "execution_count": 1,
   "id": "2f7fa8e3",
   "metadata": {},
   "outputs": [],
   "source": [
    "import numpy as np\n",
    "import pandas as pd"
   ]
  },
  {
   "cell_type": "code",
   "execution_count": 62,
   "id": "2f344fb2",
   "metadata": {},
   "outputs": [],
   "source": [
    "df = (\n",
    "    pd\n",
    "    .read_csv('Real_state_data.csv')\n",
    "    .drop_duplicates()\n",
    "    .apply(lambda col: col.str.strip().str.lower() if col.dtype == 'object' else col)\n",
    "    .assign(\n",
    "        is_reviewed = lambda df_ : (\n",
    "                df_\n",
    "                .name\n",
    "                .str.contains(\"\\n\")\n",
    "                .astype(int)\n",
    "            ),\n",
    "        name = lambda df_: (\n",
    "                df_\n",
    "                .name\n",
    "                .str.replace(\"\\n[0-9.]+\", \"\", regex=True)\n",
    "                .str.strip()\n",
    "            ),\n",
    "        location = lambda df_: (\n",
    "                df_\n",
    "                .location\n",
    "                .str.replace(\"kolkata\", \"\")\n",
    "                .str.strip()\n",
    "                .str.replace(\",$\", \"\", regex=True)\n",
    "                .str.split(\"in\")\n",
    "                .str[-1]\n",
    "                .str.strip()\n",
    "            ),\n",
    "        price = lambda df_: (\n",
    "                df_\n",
    "                .price\n",
    "                .str.replace(\"₹\", \"\")\n",
    "                .apply(\n",
    "                     lambda val: float(val.replace('lac', '').strip()) if 'lac' in val else float(val.replace(\"cr\",\"\").strip()) * 100 \n",
    "                )\n",
    "            ),\n",
    "        area = lambda df_: (\n",
    "                df_\n",
    "                .area\n",
    "                .str.replace(\"sqft\", \"\")\n",
    "                .str.strip()\n",
    "                .str.replace(\",\", \"\")\n",
    "                .str.strip()\n",
    "                .astype(int)\n",
    "            ),\n",
    "        bhk = lambda df_: (\n",
    "                df_\n",
    "                .bhk\n",
    "                .str.replace(\"bhk\", \"\")\n",
    "                .str.strip()\n",
    "                .astype(int)\n",
    "            ),\n",
    "    \n",
    "    )\n",
    "    .rename(columns={\n",
    "        'price': 'price_lacs',\n",
    "        'area': 'area_sqft'\n",
    "    })\n",
    "    .reset_index(drop=True)\n",
    "    .to_csv(\"kolkata-properties-99acres.csv\", index=False)\n",
    "    \n",
    ")"
   ]
  },
  {
   "cell_type": "code",
   "execution_count": 50,
   "id": "61538bcc",
   "metadata": {},
   "outputs": [
    {
     "data": {
      "text/plain": [
       "array(['lac', 'cr'], dtype=object)"
      ]
     },
     "execution_count": 50,
     "metadata": {},
     "output_type": "execute_result"
    }
   ],
   "source": [
    "df['price'].str.split(\" \").str[-1].unique()"
   ]
  },
  {
   "cell_type": "code",
   "execution_count": 48,
   "id": "0d19250a",
   "metadata": {},
   "outputs": [
    {
     "data": {
      "text/plain": [
       "price\n",
       "False    2254\n",
       "Name: count, dtype: int64"
      ]
     },
     "execution_count": 48,
     "metadata": {},
     "output_type": "execute_result"
    }
   ],
   "source": [
    "df['price'].str.contains('₹').value_counts()"
   ]
  },
  {
   "cell_type": "code",
   "execution_count": 35,
   "id": "0972603d",
   "metadata": {},
   "outputs": [
    {
     "data": {
      "text/plain": [
       "location\n",
       "False    2254\n",
       "Name: count, dtype: int64"
      ]
     },
     "execution_count": 35,
     "metadata": {},
     "output_type": "execute_result"
    }
   ],
   "source": [
    "df['location'].str.contains('kolkata').value_counts()"
   ]
  },
  {
   "cell_type": "code",
   "execution_count": 33,
   "id": "44d0eeff",
   "metadata": {},
   "outputs": [
    {
     "data": {
      "text/html": [
       "<div>\n",
       "<style scoped>\n",
       "    .dataframe tbody tr th:only-of-type {\n",
       "        vertical-align: middle;\n",
       "    }\n",
       "\n",
       "    .dataframe tbody tr th {\n",
       "        vertical-align: top;\n",
       "    }\n",
       "\n",
       "    .dataframe thead th {\n",
       "        text-align: right;\n",
       "    }\n",
       "</style>\n",
       "<table border=\"1\" class=\"dataframe\">\n",
       "  <thead>\n",
       "    <tr style=\"text-align: right;\">\n",
       "      <th></th>\n",
       "      <th>name</th>\n",
       "      <th>location</th>\n",
       "      <th>price</th>\n",
       "      <th>area</th>\n",
       "      <th>bhk</th>\n",
       "      <th>is_reviewed</th>\n",
       "    </tr>\n",
       "  </thead>\n",
       "  <tbody>\n",
       "  </tbody>\n",
       "</table>\n",
       "</div>"
      ],
      "text/plain": [
       "Empty DataFrame\n",
       "Columns: [name, location, price, area, bhk, is_reviewed]\n",
       "Index: []"
      ]
     },
     "execution_count": 33,
     "metadata": {},
     "output_type": "execute_result"
    }
   ],
   "source": [
    "df[df.name.str.contains(\"\\n\")]"
   ]
  },
  {
   "cell_type": "code",
   "execution_count": 60,
   "id": "7e5f7e5c",
   "metadata": {},
   "outputs": [
    {
     "name": "stdout",
     "output_type": "stream",
     "text": [
      "<class 'pandas.core.frame.DataFrame'>\n",
      "RangeIndex: 2254 entries, 0 to 2253\n",
      "Data columns (total 6 columns):\n",
      " #   Column       Non-Null Count  Dtype  \n",
      "---  ------       --------------  -----  \n",
      " 0   name         2254 non-null   object \n",
      " 1   location     2254 non-null   object \n",
      " 2   price_lacs   2254 non-null   float64\n",
      " 3   area_sqft    2254 non-null   int64  \n",
      " 4   bhk          2254 non-null   int64  \n",
      " 5   is_reviewed  2254 non-null   int64  \n",
      "dtypes: float64(1), int64(3), object(2)\n",
      "memory usage: 105.8+ KB\n"
     ]
    }
   ],
   "source": [
    "df.info()"
   ]
  },
  {
   "cell_type": "code",
   "execution_count": null,
   "id": "78121816",
   "metadata": {},
   "outputs": [],
   "source": []
  }
 ],
 "metadata": {
  "kernelspec": {
   "display_name": "Python 3",
   "language": "python",
   "name": "python3"
  },
  "language_info": {
   "codemirror_mode": {
    "name": "ipython",
    "version": 3
   },
   "file_extension": ".py",
   "mimetype": "text/x-python",
   "name": "python",
   "nbconvert_exporter": "python",
   "pygments_lexer": "ipython3",
   "version": "3.11.9"
  }
 },
 "nbformat": 4,
 "nbformat_minor": 5
}
