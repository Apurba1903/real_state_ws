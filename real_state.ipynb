{
 "cells": [
  {
   "cell_type": "code",
   "execution_count": null,
   "id": "1153481e",
   "metadata": {},
   "outputs": [],
   "source": [
    "import time\n",
    "from selenium import webdriver\n",
    "from selenium.webdriver.common.by import By\n",
    "from selenium.webdriver.common.keys import Keys\n",
    "from selenium.webdriver.support import expected_conditions as EC\n",
    "from selenium.webdriver.support.ui import WebDriverWait\n"
   ]
  },
  {
   "cell_type": "code",
   "execution_count": 30,
   "id": "9ededd7d",
   "metadata": {},
   "outputs": [],
   "source": [
    "def wait_for_page_to_load(driver, wait):\n",
    "    title = driver.title\n",
    "    \n",
    "    try:\n",
    "        wait.until(\n",
    "            lambda d: d.execute_script(\"return document.readyState\") == \"completed\"\n",
    "        )\n",
    "        \n",
    "    except:\n",
    "        print(f\"The webpage \\\"{title}\\\" did not get fully loaded.\\n\")\n",
    "        \n",
    "    else:\n",
    "        print(f\"The webpage \\\"{title}\\\" did get fully loaded.\\n\")"
   ]
  },
  {
   "cell_type": "code",
   "execution_count": null,
   "id": "4464f694",
   "metadata": {},
   "outputs": [
    {
     "name": "stdout",
     "output_type": "stream",
     "text": [
      "The webpage \"www.99acres.com\" did not get fully loaded.\n",
      "\n",
      "Timeout while locating Search Bar.\n",
      "\n"
     ]
    }
   ],
   "source": [
    "# driver = webdriver.Chrome()\n",
    "driver = uc.Chrome() \n",
    "driver.maximize_window()\n",
    "\n",
    "# Explicit Wait\n",
    "wait = WebDriverWait(driver, 5)\n",
    "\n",
    "# Accessing the Target Webpage\n",
    "url = \"https://www.99acres.com/\"\n",
    "driver.get(url)\n",
    "wait_for_page_to_load(driver, wait)\n",
    "\n",
    "# Identifying and Entering Text to the Search Bar\n",
    "try:\n",
    "    search_bar = wait.until(\n",
    "        EC.presence_of_all_element_located((By.XPATH, '//*[@id=\"keyword2\"]'))\n",
    "    )\n",
    "except:\n",
    "    print(\"Timeout while locating Search Bar.\\n\")\n",
    "else:\n",
    "    search_bar.send_keys(\"Kolkata\")\n",
    "    time.sleep(5)"
   ]
  },
  {
   "cell_type": "code",
   "execution_count": null,
   "id": "23f03207",
   "metadata": {},
   "outputs": [],
   "source": []
  },
  {
   "cell_type": "code",
   "execution_count": null,
   "id": "b72b68c5",
   "metadata": {},
   "outputs": [],
   "source": []
  },
  {
   "cell_type": "code",
   "execution_count": null,
   "id": "4dc640da",
   "metadata": {},
   "outputs": [],
   "source": []
  },
  {
   "cell_type": "code",
   "execution_count": null,
   "id": "75b3684b",
   "metadata": {},
   "outputs": [],
   "source": []
  },
  {
   "cell_type": "code",
   "execution_count": null,
   "id": "842d2ba7",
   "metadata": {},
   "outputs": [],
   "source": []
  },
  {
   "cell_type": "code",
   "execution_count": null,
   "id": "9d7a247d",
   "metadata": {},
   "outputs": [],
   "source": []
  },
  {
   "cell_type": "code",
   "execution_count": null,
   "id": "42f54025",
   "metadata": {},
   "outputs": [],
   "source": []
  },
  {
   "cell_type": "code",
   "execution_count": null,
   "id": "dad12fb8",
   "metadata": {},
   "outputs": [],
   "source": []
  },
  {
   "cell_type": "code",
   "execution_count": null,
   "id": "535a0801",
   "metadata": {},
   "outputs": [],
   "source": []
  },
  {
   "cell_type": "code",
   "execution_count": null,
   "id": "a08f38bb",
   "metadata": {},
   "outputs": [],
   "source": []
  },
  {
   "cell_type": "code",
   "execution_count": null,
   "id": "8c5f4530",
   "metadata": {},
   "outputs": [],
   "source": []
  }
 ],
 "metadata": {
  "kernelspec": {
   "display_name": "Python 3",
   "language": "python",
   "name": "python3"
  },
  "language_info": {
   "codemirror_mode": {
    "name": "ipython",
    "version": 3
   },
   "file_extension": ".py",
   "mimetype": "text/x-python",
   "name": "python",
   "nbconvert_exporter": "python",
   "pygments_lexer": "ipython3",
   "version": "3.11.5"
  }
 },
 "nbformat": 4,
 "nbformat_minor": 5
}
